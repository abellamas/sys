{
 "cells": [
  {
   "cell_type": "markdown",
   "id": "c19ea874",
   "metadata": {},
   "source": [
    "# Consignas\n",
    "Para realizar este trabajo práctico, cree una carpeta nueva con el siguiente formato de nombre: *Apellido_Nombre_TP1*. Dentro de la misma carpeta, crear los siguientes archivos:\n",
    "- **main.ipynb**\n",
    "- **functions.py**\n",
    "- **compare_mics.py**\n",
    "\n",
    "Luego, dentro de la misma carpeta crear otras dos carpetas llamadas\n",
    "- **images/**\n",
    "- **files/**\n",
    "\n",
    "dentro de la carpeta *archivos* ubicar los archivos *loudspeaker_Genelec.npy* y *loudspeaker_JBL.npy* que se encuentran en el drive.\n",
    "\n",
    "Finalmente, la estructura del directorio de trabajo debería ser la siguiente:\n",
    "```\n",
    "Apellido_Nombre_TP1/\n",
    "│   main.ipynb\n",
    "│   functions.py\n",
    "│   compare_mics.py\n",
    "│\n",
    "└───images/\n",
    "│\n",
    "└───files/\n",
    "    │   loudspeaker_Genelec.npy\n",
    "    │   loudspeaker_JBL.npy\n",
    "```"
   ]
  },
  {
   "cell_type": "markdown",
   "id": "ba367f9b",
   "metadata": {},
   "source": [
    "## PUNTO 1\n",
    "Dentro del script *functions.py* definir una función que sea capaz de recibir una variable e imprimir información descriptiva de la misma.\n",
    "    Los tipos de variables que debe poder aceptar son: enteros, flotantes, strings, arrays, tuplas, diccionarios. Para todos los casos, se debe imprimir un mensaje en donde se informe de que tipo de variable se trata. Adicionalmente: \n",
    "- Si es un array, imprimir:\n",
    "    - cantidad de dimensiones \n",
    "    - tamaño de cada dimensión\n",
    "    - cantidad de elementos\n",
    "- Si es una lista o tupla, imprimir:\n",
    "    - cantidad de elementos\n",
    "- Si es un diccionario, imprimir:\n",
    "    - pares de key:values\n",
    "    - cantidad de elementos que componen el diccionario\n",
    "    \n",
    "Importe esta función desde el notebook principal *main.ipynb* y realice pruebas."
   ]
  },
  {
   "cell_type": "markdown",
   "id": "014f6cc8",
   "metadata": {},
   "source": [
    "## PUNTO 2\n",
    "Dentro del script *functions.py* defina una función llamada *gen_discrete_signals*. La misma debe ser capaz de generar y graficar el siguiente conjunto de señales con sus respectivos argumentos de entrada:\n",
    "\n",
    "- Impulso unitario\n",
    "    - Inicio de la señal (en número de muestra)\n",
    "    - Fin de la señal (en número de muestra)\n",
    "    - Número de muestra en la que se ubica el impulso\n",
    "- Escalón unitario\n",
    "    - Inicio de la señal (en número de muestra)\n",
    "    - Fin de la señal (en número de muestra)\n",
    "    - Número de muestra en la que inicia el escalón\n",
    "- Tren de impulsos\n",
    "    - Inicio de la señal (en número de muestra)\n",
    "    - Fin de la señal (en número de muestra)\n",
    "    - Inicio del tren de pulsos \n",
    "    - Fin del tren de pulsos\n",
    "- Triangular*\n",
    "    - Inicio de la señal (en número de muestra)\n",
    "    - Fin de la señal (en número de muestra)\n",
    "    - Factor de base\n",
    "- Señal aleatoria normal:\n",
    "    - Inicio de la señal (en número de muestra)\n",
    "    - Fin de la señal (en número de muestra)\n",
    "    - Media\n",
    "    - Desvío estándar\n",
    "    \n",
    "Además, la función debe contar con la opción de poder guardar tanto los gráficos realizados como los arrays generados.\n",
    "\n",
    "Importe esta función desde el notebook principal *main.ipynb* y realice pruebas."
   ]
  },
  {
   "cell_type": "markdown",
   "id": "006c74fd",
   "metadata": {},
   "source": [
    "## PUNTO 3\n",
    "Dentro del script *functions.py* defina una función llamada *gen_n_sin* que sea capaz de generar un número arbitrario de señales senoidales. Se debe poder indicar la frecuencia de cada señal senoidal a generar. El largo de la señal y la frecuencia de muestreo pueden permanecer fijos para todas las señales generadas. \n",
    "\n",
    "La salida debe ser una lista de tuplas que contengan 3 variables *`(t, y, label)`* donde *t* es un array correspondiente al vector temporal, *y* es un array correspondiente al vector de amplitud, y *label* es una string de formato 'sin_N_freq_F' donde **N** es el número de curva y **F** es la frecuencia asociada a dicha curva."
   ]
  },
  {
   "cell_type": "markdown",
   "id": "c7d1dfa5",
   "metadata": {},
   "source": [
    "## PUNTO 4\n",
    "Dentro del script *functions.py* defina una función llamada *plot_sin_list* que sea capaz de plotear un número arbitrario de señales senoidales dentro de una misma figura. La misma debe poder recibir cualquier salida de la función definida en el punto 3, y graficar las senoidales generadas. Además, se debe poder pasarle en forma de kwargs variables de configuración para la función `plot()` del módulo matplotlib.pyplot.\n",
    "\n",
    "Importe esta función y la función del punto 3 desde el notebook principal *main.ipynb* y realice pruebas."
   ]
  },
  {
   "cell_type": "markdown",
   "id": "1c6ef70c",
   "metadata": {},
   "source": [
    "## PUNTO 5\n",
    "\n",
    "Los archivos *parlante_Genelec.npy* y *parlante_JBL.npy* contienen información de respuesta en frecuencia y fase a lo largo del espectro frecuencial de dos parlantes distintos. Cada archivo contiene una matriz de 3 filas conformada de la siguiente manera:\n",
    "\n",
    "- Primera fila: Frecuencia\n",
    "- Segunda fila: Magnitud\n",
    "- Tercer fila: Fase\n",
    "\n",
    "\n",
    "Crear un script llamado comparacion_parlantes.py que sea capaz de leer ambos archivos y realizar el o los gráficos que sean necesarios para visualizar correctamente las diferencias entre ambos parlantes. La cantidad de gráficos, y el diseño de los mismos son aspectos que deben decidir en base a los criterios charlados en clase. Por último, el script debe poder guardar todos los gráficos realizados en formato png."
   ]
  },
  {
   "cell_type": "markdown",
   "id": "db1f5116",
   "metadata": {},
   "source": [
    "# Criterios de Presentación y Aprobación\n",
    "\n",
    "Se debe comprimir la carpeta **Apellido_Nombre_TP1** en formato **.zip**. La misma debe contener, como mínimo, los archivos mencionados al inicio de este documento. **Cualquier** otro archivo que resulte necesario para el correcto funcionamiento del código, o para el cumplimiento de alguna de las consignas debe incluirse en la entrega. Si por algún faltante el código presentado no se puede ejecutar a la hora de la corrección, el trabajo será descartado **sin excepción**.\n",
    "\n",
    "Cada estudiante deberá adjuntar y enviar el archivo *Apellido_Nombre_TP1.zip* en un email dirigido a las direcciones *martinbernardomeza@gmail.com* y *ugemassolo@gmail.com* colocando en el asunto: *Apellido TP1_SYS*.\n",
    "\n",
    "La fecha límite de entrega es el miércoles 28 de septiembre a las 23:59 h. \n",
    "\n",
    "**Cualquier entrega que no cumpla con alguno de los puntos mencionados no será tenida en cuenta, sin excepción.** \n"
   ]
  },
  {
   "cell_type": "markdown",
   "id": "d8480fdb",
   "metadata": {},
   "source": [
    "# Recomendaciones\n",
    "\n",
    "## Mantener las buenas prácticas durante el desarrollo de código\n",
    "Cuando estamos incorporando nuevos usos y costumbres a la hora de formatear el código que escribimos, suele suceder que lo dejamos como un aspecto estético más, y lo revisamos al final. Es decir, primero desarrollo todo el código, y antes de entregarlo o guardarlo, me fijo que no esté incumpliendo ninguna de las buenas prácticas o recomendaciones. Si bien esta modalidad de trabajo puede funcionar para cosas pequeñas, no escala a grandes trabajos. Además, las buenas prácticas no son solo cuestiones estéticas, sino que también son de gran ayuda para evitar cometer errores **durante** el desarrollo de los scripts, ayudando a tener una imagen más clara de que es lo que hice, que es lo que estoy haciendo y que cosas necesito hacer. Por eso, nuestra recomendación es intentar aplicar las buenas prácticas desde un principio, y tenerlas presentes durante todo el desarrollo de este trabajo.\n",
    "\n",
    "## Trabajar de formada ordenada y prolija\n",
    "En estas instancias, el orden se vuelve fundamental para no perder tiempo en bugs que provengan de variables mal nombradas, identaciones o espaciados no respetados, errores de sintaxis, etc. El orden se vuelve un requisito fundamental cuando necesitamos desarrollar scripts complejos.  \n",
    "\n",
    "## *Divide et impera*\n",
    "El concepto de divide et impera (divide y vencerás) es un paradigma de programación que resulta muy útil para el diseño de ciertos algoritmos. En nuestro caso, para este trabajo, la complejidad mayor reside en el diseño de funciones. Es importante tratar de aplicar este concepto a la hora de desarrollar estas funciones, tratando siempre de descomponer el problema principal (cada inciso) en problemas más pequeños, y crear funciones que resuelvan esos problemas. Alinearse a esta manera de trabajar hace que terminemos diseñando funciones cortas, concisas, fáciles de interpretar y de debuggear, que luego se concatenan unas con otras para realizar el procesamiento general buscado.\n",
    "\n",
    "## Aprovechar el entorno \n",
    "Muchas veces, la mejor forma de entender un concepto o de encontrar un error es consultarlo con alguien que comparta nuestra misma perspectiva, pero que tenga una manera de pensar diferente. También, encarar una problemática puede ser mucho más dinámico si se da en forma de conversación entre dos o más personas. Es por eso que consultar o pedir ayuda entre compañeros es una herramienta con un potencial muy alto, que no deben desaprovechar. De igual manera, la constante búsqueda en internet, en libros o en las fuentes que recomendamos en clase también es un mecanismo al cual deben acudir con comodidad durante el desarrollo de este trabajo. Recuerden que lo importante es que comprendan los conceptos con los que están trabajando para que luego los puedan aplicar de la manera correcta, o justificar su utilización.\n",
    "\n",
    "## No subestimar las consignas\n",
    "El desarrollo de un script que resuelva un problema que se enuncie en unas pocas oraciones por lo general puede tomar unos minutos, unos días, o varios meses. Entrenar la capacidad de estimar el tiempo que me tomaría desarrollar una solución en código es algo complejo, y se adquiere con la experiencia. Este trabajo práctico, si bien se compone de puntos sencillos, presenta complicaciones que van a poner a prueba un gran número de conceptos complejos con los que trabajamos durante la práctica. Es por eso que comúnmente los estudiantes tienden a subestimar el tiempo que necesitan dedicarle a la resolución, lo que produce dos efectos no deseados: por un lado la falta de tiempo hace que dejen de lado cuestiones de forma y prolijidad en el desarrollo de su código, lo que deviene en trabajos crípticos y complejos de corregir. Por otro lado, dejar las cosas para los ultimos dias/horas produce que saturen los canales de consulta y las respuestas demoren más de lo usual, lo cual enlentece la resolución de conflicto. Con todo esto pretendemos advertirlos de la usual subestimación del tiempo, y les recomendamos no dejarse estar y aprovechar el tiempo de resolución que les ofrecemos.   "
   ]
  }
 ],
 "metadata": {
  "kernelspec": {
   "display_name": "Python 3 (ipykernel)",
   "language": "python",
   "name": "python3"
  },
  "language_info": {
   "codemirror_mode": {
    "name": "ipython",
    "version": 3
   },
   "file_extension": ".py",
   "mimetype": "text/x-python",
   "name": "python",
   "nbconvert_exporter": "python",
   "pygments_lexer": "ipython3",
   "version": "3.9.12"
  }
 },
 "nbformat": 4,
 "nbformat_minor": 5
}
