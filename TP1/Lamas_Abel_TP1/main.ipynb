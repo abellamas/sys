{
 "cells": [
  {
   "cell_type": "code",
   "execution_count": 1,
   "id": "7bb4df72",
   "metadata": {},
   "outputs": [],
   "source": [
    "import numpy as np\n",
    "from functions import descriptive\n"
   ]
  },
  {
   "cell_type": "code",
   "execution_count": 2,
   "id": "095cb6e4",
   "metadata": {},
   "outputs": [
    {
     "name": "stdout",
     "output_type": "stream",
     "text": [
      "<class 'numpy.ndarray'>\n",
      "El dato ingresado es un objeto numpy ndarray con valor: [[ 1  3  2]\n",
      " [ 2  5 33]] \n",
      " Dimensiones: 2 \n",
      " Tamaño de cada dimension: (2, 3) \n",
      " Cantidad de elementos: 6\n"
     ]
    }
   ],
   "source": [
    "descriptive(np.array([[1,3,2],[2,5,33]]))"
   ]
  },
  {
   "cell_type": "code",
   "execution_count": 3,
   "id": "1a29d03e",
   "metadata": {},
   "outputs": [
    {
     "name": "stdout",
     "output_type": "stream",
     "text": [
      "El dato ingresado es un objeto tuple con valor: ('asd', 'ear') \n",
      " Cantidad de elementos: 2\n"
     ]
    }
   ],
   "source": [
    "descriptive( ('asd','ear') )"
   ]
  },
  {
   "cell_type": "code",
   "execution_count": 4,
   "id": "7e6800fa",
   "metadata": {},
   "outputs": [
    {
     "name": "stdout",
     "output_type": "stream",
     "text": [
      "El dato ingresado es un objeto dict con pares clave valor:\n",
      "data1 : 1 \n",
      "\n",
      "data2 : 33 \n",
      "\n"
     ]
    }
   ],
   "source": [
    "descriptive({'data1':1,'data2':33})"
   ]
  },
  {
   "cell_type": "code",
   "execution_count": null,
   "id": "803d87dc",
   "metadata": {},
   "outputs": [],
   "source": []
  },
  {
   "cell_type": "code",
   "execution_count": null,
   "id": "57fc4bf1",
   "metadata": {},
   "outputs": [],
   "source": []
  },
  {
   "cell_type": "code",
   "execution_count": null,
   "id": "0b97b186",
   "metadata": {},
   "outputs": [],
   "source": []
  }
 ],
 "metadata": {
  "kernelspec": {
   "display_name": "sys",
   "language": "python",
   "name": "sys"
  },
  "language_info": {
   "codemirror_mode": {
    "name": "ipython",
    "version": 3
   },
   "file_extension": ".py",
   "mimetype": "text/x-python",
   "name": "python",
   "nbconvert_exporter": "python",
   "pygments_lexer": "ipython3",
   "version": "3.10.4"
  }
 },
 "nbformat": 4,
 "nbformat_minor": 5
}
